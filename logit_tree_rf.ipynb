{
 "cells": [
  {
   "cell_type": "code",
   "execution_count": 1,
   "metadata": {},
   "outputs": [
    {
     "data": {
      "text/plain": [
       "'C:\\\\Users\\\\Darvin'"
      ]
     },
     "execution_count": 1,
     "metadata": {},
     "output_type": "execute_result"
    }
   ],
   "source": [
    "pwd"
   ]
  },
  {
   "cell_type": "code",
   "execution_count": 2,
   "metadata": {},
   "outputs": [
    {
     "name": "stdout",
     "output_type": "stream",
     "text": [
      "D:\\Darvin\\python training\n"
     ]
    }
   ],
   "source": [
    "cd D:\\Darvin\\python training"
   ]
  },
  {
   "cell_type": "code",
   "execution_count": 3,
   "metadata": {},
   "outputs": [],
   "source": [
    "import pandas as pd\n",
    "from sklearn.model_selection import train_test_split\n",
    "from sklearn.linear_model import LogisticRegression\n",
    "from sklearn import metrics"
   ]
  },
  {
   "cell_type": "code",
   "execution_count": 4,
   "metadata": {},
   "outputs": [
    {
     "data": {
      "text/html": [
       "<div>\n",
       "<style scoped>\n",
       "    .dataframe tbody tr th:only-of-type {\n",
       "        vertical-align: middle;\n",
       "    }\n",
       "\n",
       "    .dataframe tbody tr th {\n",
       "        vertical-align: top;\n",
       "    }\n",
       "\n",
       "    .dataframe thead th {\n",
       "        text-align: right;\n",
       "    }\n",
       "</style>\n",
       "<table border=\"1\" class=\"dataframe\">\n",
       "  <thead>\n",
       "    <tr style=\"text-align: right;\">\n",
       "      <th></th>\n",
       "      <th>Serial No.</th>\n",
       "      <th>GRE Score</th>\n",
       "      <th>TOEFL Score</th>\n",
       "      <th>University Rating</th>\n",
       "      <th>state_purpose</th>\n",
       "      <th>LOR</th>\n",
       "      <th>CGPA</th>\n",
       "      <th>Research</th>\n",
       "      <th>Chance of Admit</th>\n",
       "    </tr>\n",
       "  </thead>\n",
       "  <tbody>\n",
       "    <tr>\n",
       "      <th>495</th>\n",
       "      <td>496</td>\n",
       "      <td>332</td>\n",
       "      <td>108</td>\n",
       "      <td>5</td>\n",
       "      <td>4.5</td>\n",
       "      <td>4.0</td>\n",
       "      <td>9.02</td>\n",
       "      <td>1</td>\n",
       "      <td>1</td>\n",
       "    </tr>\n",
       "    <tr>\n",
       "      <th>496</th>\n",
       "      <td>497</td>\n",
       "      <td>337</td>\n",
       "      <td>117</td>\n",
       "      <td>5</td>\n",
       "      <td>5.0</td>\n",
       "      <td>5.0</td>\n",
       "      <td>9.87</td>\n",
       "      <td>1</td>\n",
       "      <td>1</td>\n",
       "    </tr>\n",
       "    <tr>\n",
       "      <th>497</th>\n",
       "      <td>498</td>\n",
       "      <td>330</td>\n",
       "      <td>120</td>\n",
       "      <td>5</td>\n",
       "      <td>4.5</td>\n",
       "      <td>5.0</td>\n",
       "      <td>9.56</td>\n",
       "      <td>1</td>\n",
       "      <td>1</td>\n",
       "    </tr>\n",
       "    <tr>\n",
       "      <th>498</th>\n",
       "      <td>499</td>\n",
       "      <td>312</td>\n",
       "      <td>103</td>\n",
       "      <td>4</td>\n",
       "      <td>4.0</td>\n",
       "      <td>5.0</td>\n",
       "      <td>8.43</td>\n",
       "      <td>0</td>\n",
       "      <td>1</td>\n",
       "    </tr>\n",
       "    <tr>\n",
       "      <th>499</th>\n",
       "      <td>500</td>\n",
       "      <td>327</td>\n",
       "      <td>113</td>\n",
       "      <td>4</td>\n",
       "      <td>4.5</td>\n",
       "      <td>4.5</td>\n",
       "      <td>9.04</td>\n",
       "      <td>0</td>\n",
       "      <td>1</td>\n",
       "    </tr>\n",
       "  </tbody>\n",
       "</table>\n",
       "</div>"
      ],
      "text/plain": [
       "     Serial No.  GRE Score  TOEFL Score  University Rating  state_purpose  \\\n",
       "495         496        332          108                  5            4.5   \n",
       "496         497        337          117                  5            5.0   \n",
       "497         498        330          120                  5            4.5   \n",
       "498         499        312          103                  4            4.0   \n",
       "499         500        327          113                  4            4.5   \n",
       "\n",
       "     LOR   CGPA  Research  Chance of Admit   \n",
       "495   4.0  9.02         1                 1  \n",
       "496   5.0  9.87         1                 1  \n",
       "497   5.0  9.56         1                 1  \n",
       "498   5.0  8.43         0                 1  \n",
       "499   4.5  9.04         0                 1  "
      ]
     },
     "execution_count": 4,
     "metadata": {},
     "output_type": "execute_result"
    }
   ],
   "source": [
    "data=pd.read_csv('admission.csv')\n",
    "data.tail()"
   ]
  },
  {
   "cell_type": "code",
   "execution_count": 6,
   "metadata": {},
   "outputs": [
    {
     "name": "stdout",
     "output_type": "stream",
     "text": [
      "(400, 7)\n",
      "(400,)\n",
      "(100, 7)\n",
      "(100,)\n"
     ]
    }
   ],
   "source": [
    "x=data.iloc[:,1:8]\n",
    "y=data.iloc[:,8]\n",
    "xtrain,xtest,ytrain,ytest=train_test_split(x,y,test_size=0.20,random_state=1)\n",
    "print(xtrain.shape)\n",
    "print(ytrain.shape)\n",
    "print(xtest.shape)\n",
    "print(ytest.shape)"
   ]
  },
  {
   "cell_type": "code",
   "execution_count": 7,
   "metadata": {},
   "outputs": [
    {
     "name": "stderr",
     "output_type": "stream",
     "text": [
      "D:\\anaconda\\lib\\site-packages\\sklearn\\linear_model\\_logistic.py:940: ConvergenceWarning: lbfgs failed to converge (status=1):\n",
      "STOP: TOTAL NO. of ITERATIONS REACHED LIMIT.\n",
      "\n",
      "Increase the number of iterations (max_iter) or scale the data as shown in:\n",
      "    https://scikit-learn.org/stable/modules/preprocessing.html\n",
      "Please also refer to the documentation for alternative solver options:\n",
      "    https://scikit-learn.org/stable/modules/linear_model.html#logistic-regression\n",
      "  extra_warning_msg=_LOGISTIC_SOLVER_CONVERGENCE_MSG)\n"
     ]
    },
    {
     "data": {
      "text/plain": [
       "0.84"
      ]
     },
     "execution_count": 7,
     "metadata": {},
     "output_type": "execute_result"
    }
   ],
   "source": [
    "logistic=LogisticRegression()\n",
    "model=logistic.fit(xtrain,ytrain)\n",
    "pred=logistic.predict(xtest)\n",
    "metrics.accuracy_score(pred,ytest)"
   ]
  },
  {
   "cell_type": "code",
   "execution_count": 9,
   "metadata": {},
   "outputs": [
    {
     "name": "stdout",
     "output_type": "stream",
     "text": [
      "0.78\n"
     ]
    },
    {
     "data": {
      "text/plain": [
       "[Text(206.006625, 210.645, 'X[0] <= 318.5\\ngini = 0.499\\nsamples = 400\\nvalue = [193, 207]'),\n",
       " Text(118.22625000000001, 197.055, 'X[5] <= 8.665\\ngini = 0.321\\nsamples = 224\\nvalue = [179, 45]'),\n",
       " Text(45.6165, 183.465, 'X[1] <= 102.5\\ngini = 0.24\\nsamples = 194\\nvalue = [167, 27]'),\n",
       " Text(13.392000000000001, 169.875, 'X[4] <= 3.75\\ngini = 0.042\\nsamples = 94\\nvalue = [92, 2]'),\n",
       " Text(6.696000000000001, 156.285, 'gini = 0.0\\nsamples = 83\\nvalue = [83, 0]'),\n",
       " Text(20.088, 156.285, 'X[0] <= 312.0\\ngini = 0.298\\nsamples = 11\\nvalue = [9, 2]'),\n",
       " Text(13.392000000000001, 142.695, 'X[3] <= 3.75\\ngini = 0.18\\nsamples = 10\\nvalue = [9, 1]'),\n",
       " Text(6.696000000000001, 129.10500000000002, 'gini = 0.0\\nsamples = 8\\nvalue = [8, 0]'),\n",
       " Text(20.088, 129.10500000000002, 'X[0] <= 310.0\\ngini = 0.5\\nsamples = 2\\nvalue = [1, 1]'),\n",
       " Text(13.392000000000001, 115.515, 'gini = 0.0\\nsamples = 1\\nvalue = [0, 1]'),\n",
       " Text(26.784000000000002, 115.515, 'gini = 0.0\\nsamples = 1\\nvalue = [1, 0]'),\n",
       " Text(26.784000000000002, 142.695, 'gini = 0.0\\nsamples = 1\\nvalue = [0, 1]'),\n",
       " Text(77.84100000000001, 169.875, 'X[0] <= 305.5\\ngini = 0.375\\nsamples = 100\\nvalue = [75, 25]'),\n",
       " Text(46.87200000000001, 156.285, 'X[4] <= 4.25\\ngini = 0.095\\nsamples = 20\\nvalue = [19, 1]'),\n",
       " Text(40.176, 142.695, 'gini = 0.0\\nsamples = 18\\nvalue = [18, 0]'),\n",
       " Text(53.568000000000005, 142.695, 'X[2] <= 4.0\\ngini = 0.5\\nsamples = 2\\nvalue = [1, 1]'),\n",
       " Text(46.87200000000001, 129.10500000000002, 'gini = 0.0\\nsamples = 1\\nvalue = [1, 0]'),\n",
       " Text(60.264, 129.10500000000002, 'gini = 0.0\\nsamples = 1\\nvalue = [0, 1]'),\n",
       " Text(108.81000000000002, 156.285, 'X[5] <= 8.11\\ngini = 0.42\\nsamples = 80\\nvalue = [56, 24]'),\n",
       " Text(80.352, 142.695, 'X[0] <= 315.5\\ngini = 0.18\\nsamples = 20\\nvalue = [18, 2]'),\n",
       " Text(73.656, 129.10500000000002, 'gini = 0.0\\nsamples = 17\\nvalue = [17, 0]'),\n",
       " Text(87.048, 129.10500000000002, 'X[5] <= 7.77\\ngini = 0.444\\nsamples = 3\\nvalue = [1, 2]'),\n",
       " Text(80.352, 115.515, 'gini = 0.0\\nsamples = 1\\nvalue = [1, 0]'),\n",
       " Text(93.74400000000001, 115.515, 'gini = 0.0\\nsamples = 2\\nvalue = [0, 2]'),\n",
       " Text(137.268, 142.695, 'X[5] <= 8.455\\ngini = 0.464\\nsamples = 60\\nvalue = [38, 22]'),\n",
       " Text(120.528, 129.10500000000002, 'X[3] <= 2.75\\ngini = 0.497\\nsamples = 39\\nvalue = [21, 18]'),\n",
       " Text(107.13600000000001, 115.515, 'X[1] <= 107.5\\ngini = 0.432\\nsamples = 19\\nvalue = [13, 6]'),\n",
       " Text(100.44000000000001, 101.925, 'X[5] <= 8.41\\ngini = 0.401\\nsamples = 18\\nvalue = [13, 5]'),\n",
       " Text(93.74400000000001, 88.33500000000001, 'X[5] <= 8.33\\ngini = 0.36\\nsamples = 17\\nvalue = [13, 4]'),\n",
       " Text(87.048, 74.745, 'X[5] <= 8.31\\ngini = 0.444\\nsamples = 12\\nvalue = [8, 4]'),\n",
       " Text(80.352, 61.155, 'X[5] <= 8.25\\ngini = 0.397\\nsamples = 11\\nvalue = [8, 3]'),\n",
       " Text(73.656, 47.565, 'X[5] <= 8.21\\ngini = 0.469\\nsamples = 8\\nvalue = [5, 3]'),\n",
       " Text(66.96000000000001, 33.974999999999994, 'X[1] <= 105.5\\ngini = 0.278\\nsamples = 6\\nvalue = [5, 1]'),\n",
       " Text(60.264, 20.38499999999999, 'gini = 0.0\\nsamples = 4\\nvalue = [4, 0]'),\n",
       " Text(73.656, 20.38499999999999, 'X[5] <= 8.13\\ngini = 0.5\\nsamples = 2\\nvalue = [1, 1]'),\n",
       " Text(66.96000000000001, 6.7949999999999875, 'gini = 0.0\\nsamples = 1\\nvalue = [0, 1]'),\n",
       " Text(80.352, 6.7949999999999875, 'gini = 0.0\\nsamples = 1\\nvalue = [1, 0]'),\n",
       " Text(80.352, 33.974999999999994, 'gini = 0.0\\nsamples = 2\\nvalue = [0, 2]'),\n",
       " Text(87.048, 47.565, 'gini = 0.0\\nsamples = 3\\nvalue = [3, 0]'),\n",
       " Text(93.74400000000001, 61.155, 'gini = 0.0\\nsamples = 1\\nvalue = [0, 1]'),\n",
       " Text(100.44000000000001, 74.745, 'gini = 0.0\\nsamples = 5\\nvalue = [5, 0]'),\n",
       " Text(107.13600000000001, 88.33500000000001, 'gini = 0.0\\nsamples = 1\\nvalue = [0, 1]'),\n",
       " Text(113.83200000000001, 101.925, 'gini = 0.0\\nsamples = 1\\nvalue = [0, 1]'),\n",
       " Text(133.92000000000002, 115.515, 'X[2] <= 3.5\\ngini = 0.48\\nsamples = 20\\nvalue = [8, 12]'),\n",
       " Text(127.22400000000002, 101.925, 'X[1] <= 107.5\\ngini = 0.498\\nsamples = 17\\nvalue = [8, 9]'),\n",
       " Text(120.528, 88.33500000000001, 'X[3] <= 3.25\\ngini = 0.459\\nsamples = 14\\nvalue = [5, 9]'),\n",
       " Text(113.83200000000001, 74.745, 'gini = 0.0\\nsamples = 3\\nvalue = [0, 3]'),\n",
       " Text(127.22400000000002, 74.745, 'X[1] <= 105.5\\ngini = 0.496\\nsamples = 11\\nvalue = [5, 6]'),\n",
       " Text(113.83200000000001, 61.155, 'X[4] <= 3.25\\ngini = 0.444\\nsamples = 6\\nvalue = [4, 2]'),\n",
       " Text(107.13600000000001, 47.565, 'gini = 0.0\\nsamples = 3\\nvalue = [3, 0]'),\n",
       " Text(120.528, 47.565, 'X[0] <= 311.5\\ngini = 0.444\\nsamples = 3\\nvalue = [1, 2]'),\n",
       " Text(113.83200000000001, 33.974999999999994, 'gini = 0.0\\nsamples = 1\\nvalue = [1, 0]'),\n",
       " Text(127.22400000000002, 33.974999999999994, 'gini = 0.0\\nsamples = 2\\nvalue = [0, 2]'),\n",
       " Text(140.616, 61.155, 'X[0] <= 316.0\\ngini = 0.32\\nsamples = 5\\nvalue = [1, 4]'),\n",
       " Text(133.92000000000002, 47.565, 'gini = 0.0\\nsamples = 4\\nvalue = [0, 4]'),\n",
       " Text(147.312, 47.565, 'gini = 0.0\\nsamples = 1\\nvalue = [1, 0]'),\n",
       " Text(133.92000000000002, 88.33500000000001, 'gini = 0.0\\nsamples = 3\\nvalue = [3, 0]'),\n",
       " Text(140.616, 101.925, 'gini = 0.0\\nsamples = 3\\nvalue = [0, 3]'),\n",
       " Text(154.008, 129.10500000000002, 'X[0] <= 307.5\\ngini = 0.308\\nsamples = 21\\nvalue = [17, 4]'),\n",
       " Text(147.312, 115.515, 'gini = 0.0\\nsamples = 1\\nvalue = [0, 1]'),\n",
       " Text(160.704, 115.515, 'X[2] <= 2.5\\ngini = 0.255\\nsamples = 20\\nvalue = [17, 3]'),\n",
       " Text(154.008, 101.925, 'gini = 0.0\\nsamples = 9\\nvalue = [9, 0]'),\n",
       " Text(167.4, 101.925, 'X[1] <= 104.5\\ngini = 0.397\\nsamples = 11\\nvalue = [8, 3]'),\n",
       " Text(154.008, 88.33500000000001, 'X[5] <= 8.515\\ngini = 0.444\\nsamples = 3\\nvalue = [1, 2]'),\n",
       " Text(147.312, 74.745, 'gini = 0.0\\nsamples = 1\\nvalue = [1, 0]'),\n",
       " Text(160.704, 74.745, 'gini = 0.0\\nsamples = 2\\nvalue = [0, 2]'),\n",
       " Text(180.79200000000003, 88.33500000000001, 'X[6] <= 0.5\\ngini = 0.219\\nsamples = 8\\nvalue = [7, 1]'),\n",
       " Text(174.096, 74.745, 'gini = 0.0\\nsamples = 7\\nvalue = [7, 0]'),\n",
       " Text(187.48800000000003, 74.745, 'gini = 0.0\\nsamples = 1\\nvalue = [0, 1]'),\n",
       " Text(190.836, 183.465, 'X[1] <= 103.5\\ngini = 0.48\\nsamples = 30\\nvalue = [12, 18]'),\n",
       " Text(174.096, 169.875, 'X[3] <= 3.75\\ngini = 0.375\\nsamples = 8\\nvalue = [6, 2]'),\n",
       " Text(167.4, 156.285, 'X[6] <= 0.5\\ngini = 0.245\\nsamples = 7\\nvalue = [6, 1]'),\n",
       " Text(160.704, 142.695, 'gini = 0.0\\nsamples = 5\\nvalue = [5, 0]'),\n",
       " Text(174.096, 142.695, 'X[4] <= 4.25\\ngini = 0.5\\nsamples = 2\\nvalue = [1, 1]'),\n",
       " Text(167.4, 129.10500000000002, 'gini = 0.0\\nsamples = 1\\nvalue = [0, 1]'),\n",
       " Text(180.79200000000003, 129.10500000000002, 'gini = 0.0\\nsamples = 1\\nvalue = [1, 0]'),\n",
       " Text(180.79200000000003, 156.285, 'gini = 0.0\\nsamples = 1\\nvalue = [0, 1]'),\n",
       " Text(207.57600000000002, 169.875, 'X[0] <= 317.5\\ngini = 0.397\\nsamples = 22\\nvalue = [6, 16]'),\n",
       " Text(194.18400000000003, 156.285, 'X[3] <= 3.75\\ngini = 0.278\\nsamples = 18\\nvalue = [3, 15]'),\n",
       " Text(187.48800000000003, 142.695, 'gini = 0.0\\nsamples = 8\\nvalue = [0, 8]'),\n",
       " Text(200.88000000000002, 142.695, 'X[4] <= 3.25\\ngini = 0.42\\nsamples = 10\\nvalue = [3, 7]'),\n",
       " Text(194.18400000000003, 129.10500000000002, 'gini = 0.0\\nsamples = 1\\nvalue = [1, 0]'),\n",
       " Text(207.57600000000002, 129.10500000000002, 'X[0] <= 311.0\\ngini = 0.346\\nsamples = 9\\nvalue = [2, 7]'),\n",
       " Text(200.88000000000002, 115.515, 'gini = 0.0\\nsamples = 1\\nvalue = [1, 0]'),\n",
       " Text(214.27200000000002, 115.515, 'X[1] <= 109.5\\ngini = 0.219\\nsamples = 8\\nvalue = [1, 7]'),\n",
       " Text(207.57600000000002, 101.925, 'gini = 0.0\\nsamples = 5\\nvalue = [0, 5]'),\n",
       " Text(220.96800000000002, 101.925, 'X[5] <= 8.79\\ngini = 0.444\\nsamples = 3\\nvalue = [1, 2]'),\n",
       " Text(214.27200000000002, 88.33500000000001, 'gini = 0.0\\nsamples = 1\\nvalue = [1, 0]'),\n",
       " Text(227.66400000000002, 88.33500000000001, 'gini = 0.0\\nsamples = 2\\nvalue = [0, 2]'),\n",
       " Text(220.96800000000002, 156.285, 'X[2] <= 2.0\\ngini = 0.375\\nsamples = 4\\nvalue = [3, 1]'),\n",
       " Text(214.27200000000002, 142.695, 'gini = 0.0\\nsamples = 1\\nvalue = [0, 1]'),\n",
       " Text(227.66400000000002, 142.695, 'gini = 0.0\\nsamples = 3\\nvalue = [3, 0]'),\n",
       " Text(293.78700000000003, 197.055, 'X[5] <= 8.765\\ngini = 0.146\\nsamples = 176\\nvalue = [14, 162]'),\n",
       " Text(269.514, 183.465, 'X[6] <= 0.5\\ngini = 0.422\\nsamples = 43\\nvalue = [13, 30]'),\n",
       " Text(241.056, 169.875, 'X[5] <= 8.42\\ngini = 0.42\\nsamples = 10\\nvalue = [7, 3]'),\n",
       " Text(234.36, 156.285, 'gini = 0.0\\nsamples = 4\\nvalue = [4, 0]'),\n",
       " Text(247.752, 156.285, 'X[5] <= 8.58\\ngini = 0.5\\nsamples = 6\\nvalue = [3, 3]'),\n",
       " Text(241.056, 142.695, 'gini = 0.0\\nsamples = 2\\nvalue = [0, 2]'),\n",
       " Text(254.44800000000004, 142.695, 'X[4] <= 3.75\\ngini = 0.375\\nsamples = 4\\nvalue = [3, 1]'),\n",
       " Text(247.752, 129.10500000000002, 'gini = 0.0\\nsamples = 3\\nvalue = [3, 0]'),\n",
       " Text(261.144, 129.10500000000002, 'gini = 0.0\\nsamples = 1\\nvalue = [0, 1]'),\n",
       " Text(297.97200000000004, 169.875, 'X[1] <= 109.5\\ngini = 0.298\\nsamples = 33\\nvalue = [6, 27]'),\n",
       " Text(281.232, 156.285, 'X[1] <= 104.5\\ngini = 0.43\\nsamples = 16\\nvalue = [5, 11]'),\n",
       " Text(274.536, 142.695, 'gini = 0.0\\nsamples = 4\\nvalue = [0, 4]'),\n",
       " Text(287.92800000000005, 142.695, 'X[5] <= 8.47\\ngini = 0.486\\nsamples = 12\\nvalue = [5, 7]'),\n",
       " Text(274.536, 129.10500000000002, 'X[4] <= 2.75\\ngini = 0.375\\nsamples = 4\\nvalue = [3, 1]'),\n",
       " Text(267.84000000000003, 115.515, 'gini = 0.0\\nsamples = 1\\nvalue = [0, 1]'),\n",
       " Text(281.232, 115.515, 'gini = 0.0\\nsamples = 3\\nvalue = [3, 0]'),\n",
       " Text(301.32000000000005, 129.10500000000002, 'X[1] <= 107.5\\ngini = 0.375\\nsamples = 8\\nvalue = [2, 6]'),\n",
       " Text(294.624, 115.515, 'gini = 0.0\\nsamples = 4\\nvalue = [0, 4]'),\n",
       " Text(308.016, 115.515, 'X[4] <= 3.25\\ngini = 0.5\\nsamples = 4\\nvalue = [2, 2]'),\n",
       " Text(301.32000000000005, 101.925, 'gini = 0.0\\nsamples = 1\\nvalue = [0, 1]'),\n",
       " Text(314.71200000000005, 101.925, 'X[0] <= 322.0\\ngini = 0.444\\nsamples = 3\\nvalue = [2, 1]'),\n",
       " Text(308.016, 88.33500000000001, 'gini = 0.0\\nsamples = 2\\nvalue = [2, 0]'),\n",
       " Text(321.408, 88.33500000000001, 'gini = 0.0\\nsamples = 1\\nvalue = [0, 1]'),\n",
       " Text(314.71200000000005, 156.285, 'X[1] <= 114.5\\ngini = 0.111\\nsamples = 17\\nvalue = [1, 16]'),\n",
       " Text(308.016, 142.695, 'gini = 0.0\\nsamples = 15\\nvalue = [0, 15]'),\n",
       " Text(321.408, 142.695, 'X[2] <= 3.5\\ngini = 0.5\\nsamples = 2\\nvalue = [1, 1]'),\n",
       " Text(314.71200000000005, 129.10500000000002, 'gini = 0.0\\nsamples = 1\\nvalue = [1, 0]'),\n",
       " Text(328.10400000000004, 129.10500000000002, 'gini = 0.0\\nsamples = 1\\nvalue = [0, 1]'),\n",
       " Text(318.06, 183.465, 'X[4] <= 1.75\\ngini = 0.015\\nsamples = 133\\nvalue = [1, 132]'),\n",
       " Text(311.36400000000003, 169.875, 'gini = 0.0\\nsamples = 1\\nvalue = [1, 0]'),\n",
       " Text(324.75600000000003, 169.875, 'gini = 0.0\\nsamples = 132\\nvalue = [0, 132]')]"
      ]
     },
     "execution_count": 9,
     "metadata": {},
     "output_type": "execute_result"
    },
    {
     "data": {
      "image/png": "[encoded data removed]",
      "text/plain": [
       "<Figure size 432x288 with 1 Axes>"
      ]
     },
     "metadata": {
      "needs_background": "light"
     },
     "output_type": "display_data"
    }
   ],
   "source": [
    "from sklearn import tree\n",
    "model=tree.DecisionTreeClassifier()\n",
    "model.fit(xtrain,ytrain)\n",
    "pred=model.predict(xtest)\n",
    "print(metrics.accuracy_score(pred,ytest))\n",
    "tree.plot_tree(model.fit(xtrain,ytrain)) "
   ]
  },
  {
   "cell_type": "code",
   "execution_count": 10,
   "metadata": {},
   "outputs": [
    {
     "data": {
      "text/plain": [
       "0.88"
      ]
     },
     "execution_count": 10,
     "metadata": {},
     "output_type": "execute_result"
    }
   ],
   "source": [
    "from sklearn.ensemble import RandomForestClassifier\n",
    "model=RandomForestClassifier()\n",
    "model.fit(xtrain,ytrain)\n",
    "pred=model.predict(xtest)\n",
    "metrics.accuracy_score(pred,ytest)"
   ]
  },
  {
   "cell_type": "code",
   "execution_count": 40,
   "metadata": {},
   "outputs": [
    {
     "data": {
      "text/plain": [
       "array([[-0.09736465,  0.11124217,  0.46073524,  0.40506679,  0.1670986 ,\n",
       "         1.81287015,  1.64204156]])"
      ]
     },
     "execution_count": 40,
     "metadata": {},
     "output_type": "execute_result"
    }
   ],
   "source": [
    "logistic.coef_"
   ]
  },
  {
   "cell_type": "code",
   "execution_count": 42,
   "metadata": {},
   "outputs": [
    {
     "data": {
      "text/plain": [
       "0.8025"
      ]
     },
     "execution_count": 42,
     "metadata": {},
     "output_type": "execute_result"
    }
   ],
   "source": [
    "logistic.score(xtrain,ytrain)"
   ]
  },
  {
   "cell_type": "code",
   "execution_count": 47,
   "metadata": {},
   "outputs": [
    {
     "data": {
      "text/plain": [
       "[Text(206.9933823529412, 210.645, 'X[0] <= 318.5\\ngini = 0.499\\nsamples = 400\\nvalue = [193, 207]'),\n",
       " Text(119.39558823529413, 197.055, 'X[5] <= 8.665\\ngini = 0.321\\nsamples = 224\\nvalue = [179, 45]'),\n",
       " Text(45.13235294117648, 183.465, 'X[1] <= 102.5\\ngini = 0.24\\nsamples = 194\\nvalue = [167, 27]'),\n",
       " Text(13.129411764705884, 169.875, 'X[4] <= 3.75\\ngini = 0.042\\nsamples = 94\\nvalue = [92, 2]'),\n",
       " Text(6.564705882352942, 156.285, 'gini = 0.0\\nsamples = 83\\nvalue = [83, 0]'),\n",
       " Text(19.694117647058825, 156.285, 'X[0] <= 312.0\\ngini = 0.298\\nsamples = 11\\nvalue = [9, 2]'),\n",
       " Text(13.129411764705884, 142.695, 'X[3] <= 3.75\\ngini = 0.18\\nsamples = 10\\nvalue = [9, 1]'),\n",
       " Text(6.564705882352942, 129.10500000000002, 'gini = 0.0\\nsamples = 8\\nvalue = [8, 0]'),\n",
       " Text(19.694117647058825, 129.10500000000002, 'X[0] <= 310.0\\ngini = 0.5\\nsamples = 2\\nvalue = [1, 1]'),\n",
       " Text(13.129411764705884, 115.515, 'gini = 0.0\\nsamples = 1\\nvalue = [0, 1]'),\n",
       " Text(26.258823529411767, 115.515, 'gini = 0.0\\nsamples = 1\\nvalue = [1, 0]'),\n",
       " Text(26.258823529411767, 142.695, 'gini = 0.0\\nsamples = 1\\nvalue = [0, 1]'),\n",
       " Text(77.13529411764706, 169.875, 'X[0] <= 305.5\\ngini = 0.375\\nsamples = 100\\nvalue = [75, 25]'),\n",
       " Text(45.952941176470596, 156.285, 'X[5] <= 8.645\\ngini = 0.095\\nsamples = 20\\nvalue = [19, 1]'),\n",
       " Text(39.38823529411765, 142.695, 'gini = 0.0\\nsamples = 18\\nvalue = [18, 0]'),\n",
       " Text(52.517647058823535, 142.695, 'X[3] <= 4.0\\ngini = 0.5\\nsamples = 2\\nvalue = [1, 1]'),\n",
       " Text(45.952941176470596, 129.10500000000002, 'gini = 0.0\\nsamples = 1\\nvalue = [1, 0]'),\n",
       " Text(59.082352941176474, 129.10500000000002, 'gini = 0.0\\nsamples = 1\\nvalue = [0, 1]'),\n",
       " Text(108.31764705882354, 156.285, 'X[5] <= 8.11\\ngini = 0.42\\nsamples = 80\\nvalue = [56, 24]'),\n",
       " Text(78.7764705882353, 142.695, 'X[0] <= 315.5\\ngini = 0.18\\nsamples = 20\\nvalue = [18, 2]'),\n",
       " Text(72.21176470588236, 129.10500000000002, 'gini = 0.0\\nsamples = 17\\nvalue = [17, 0]'),\n",
       " Text(85.34117647058824, 129.10500000000002, 'X[5] <= 7.77\\ngini = 0.444\\nsamples = 3\\nvalue = [1, 2]'),\n",
       " Text(78.7764705882353, 115.515, 'gini = 0.0\\nsamples = 1\\nvalue = [1, 0]'),\n",
       " Text(91.90588235294119, 115.515, 'gini = 0.0\\nsamples = 2\\nvalue = [0, 2]'),\n",
       " Text(137.85882352941178, 142.695, 'X[5] <= 8.455\\ngini = 0.464\\nsamples = 60\\nvalue = [38, 22]'),\n",
       " Text(118.16470588235295, 129.10500000000002, 'X[3] <= 2.75\\ngini = 0.497\\nsamples = 39\\nvalue = [21, 18]'),\n",
       " Text(105.03529411764707, 115.515, 'X[5] <= 8.41\\ngini = 0.432\\nsamples = 19\\nvalue = [13, 6]'),\n",
       " Text(98.47058823529413, 101.925, 'X[1] <= 107.5\\ngini = 0.401\\nsamples = 18\\nvalue = [13, 5]'),\n",
       " Text(91.90588235294119, 88.33500000000001, 'X[5] <= 8.33\\ngini = 0.36\\nsamples = 17\\nvalue = [13, 4]'),\n",
       " Text(85.34117647058824, 74.745, 'X[5] <= 8.31\\ngini = 0.444\\nsamples = 12\\nvalue = [8, 4]'),\n",
       " Text(78.7764705882353, 61.155, 'X[5] <= 8.25\\ngini = 0.397\\nsamples = 11\\nvalue = [8, 3]'),\n",
       " Text(72.21176470588236, 47.565, 'X[5] <= 8.21\\ngini = 0.469\\nsamples = 8\\nvalue = [5, 3]'),\n",
       " Text(65.64705882352942, 33.974999999999994, 'X[1] <= 105.5\\ngini = 0.278\\nsamples = 6\\nvalue = [5, 1]'),\n",
       " Text(59.082352941176474, 20.38499999999999, 'gini = 0.0\\nsamples = 4\\nvalue = [4, 0]'),\n",
       " Text(72.21176470588236, 20.38499999999999, 'X[5] <= 8.13\\ngini = 0.5\\nsamples = 2\\nvalue = [1, 1]'),\n",
       " Text(65.64705882352942, 6.7949999999999875, 'gini = 0.0\\nsamples = 1\\nvalue = [0, 1]'),\n",
       " Text(78.7764705882353, 6.7949999999999875, 'gini = 0.0\\nsamples = 1\\nvalue = [1, 0]'),\n",
       " Text(78.7764705882353, 33.974999999999994, 'gini = 0.0\\nsamples = 2\\nvalue = [0, 2]'),\n",
       " Text(85.34117647058824, 47.565, 'gini = 0.0\\nsamples = 3\\nvalue = [3, 0]'),\n",
       " Text(91.90588235294119, 61.155, 'gini = 0.0\\nsamples = 1\\nvalue = [0, 1]'),\n",
       " Text(98.47058823529413, 74.745, 'gini = 0.0\\nsamples = 5\\nvalue = [5, 0]'),\n",
       " Text(105.03529411764707, 88.33500000000001, 'gini = 0.0\\nsamples = 1\\nvalue = [0, 1]'),\n",
       " Text(111.60000000000001, 101.925, 'gini = 0.0\\nsamples = 1\\nvalue = [0, 1]'),\n",
       " Text(131.29411764705884, 115.515, 'X[3] <= 3.25\\ngini = 0.48\\nsamples = 20\\nvalue = [8, 12]'),\n",
       " Text(124.7294117647059, 101.925, 'gini = 0.0\\nsamples = 3\\nvalue = [0, 3]'),\n",
       " Text(137.85882352941178, 101.925, 'X[2] <= 3.5\\ngini = 0.498\\nsamples = 17\\nvalue = [8, 9]'),\n",
       " Text(131.29411764705884, 88.33500000000001, 'X[1] <= 106.5\\ngini = 0.49\\nsamples = 14\\nvalue = [8, 6]'),\n",
       " Text(124.7294117647059, 74.745, 'X[1] <= 105.5\\ngini = 0.48\\nsamples = 10\\nvalue = [4, 6]'),\n",
       " Text(118.16470588235295, 61.155, 'X[4] <= 3.25\\ngini = 0.444\\nsamples = 6\\nvalue = [4, 2]'),\n",
       " Text(111.60000000000001, 47.565, 'gini = 0.0\\nsamples = 3\\nvalue = [3, 0]'),\n",
       " Text(124.7294117647059, 47.565, 'X[4] <= 4.25\\ngini = 0.444\\nsamples = 3\\nvalue = [1, 2]'),\n",
       " Text(118.16470588235295, 33.974999999999994, 'gini = 0.0\\nsamples = 2\\nvalue = [0, 2]'),\n",
       " Text(131.29411764705884, 33.974999999999994, 'gini = 0.0\\nsamples = 1\\nvalue = [1, 0]'),\n",
       " Text(131.29411764705884, 61.155, 'gini = 0.0\\nsamples = 4\\nvalue = [0, 4]'),\n",
       " Text(137.85882352941178, 74.745, 'gini = 0.0\\nsamples = 4\\nvalue = [4, 0]'),\n",
       " Text(144.42352941176472, 88.33500000000001, 'gini = 0.0\\nsamples = 3\\nvalue = [0, 3]'),\n",
       " Text(157.5529411764706, 129.10500000000002, 'X[0] <= 307.5\\ngini = 0.308\\nsamples = 21\\nvalue = [17, 4]'),\n",
       " Text(150.98823529411766, 115.515, 'gini = 0.0\\nsamples = 1\\nvalue = [0, 1]'),\n",
       " Text(164.11764705882354, 115.515, 'X[2] <= 2.5\\ngini = 0.255\\nsamples = 20\\nvalue = [17, 3]'),\n",
       " Text(157.5529411764706, 101.925, 'gini = 0.0\\nsamples = 9\\nvalue = [9, 0]'),\n",
       " Text(170.68235294117648, 101.925, 'X[1] <= 104.5\\ngini = 0.397\\nsamples = 11\\nvalue = [8, 3]'),\n",
       " Text(157.5529411764706, 88.33500000000001, 'X[0] <= 317.5\\ngini = 0.444\\nsamples = 3\\nvalue = [1, 2]'),\n",
       " Text(150.98823529411766, 74.745, 'gini = 0.0\\nsamples = 2\\nvalue = [0, 2]'),\n",
       " Text(164.11764705882354, 74.745, 'gini = 0.0\\nsamples = 1\\nvalue = [1, 0]'),\n",
       " Text(183.81176470588238, 88.33500000000001, 'X[6] <= 0.5\\ngini = 0.219\\nsamples = 8\\nvalue = [7, 1]'),\n",
       " Text(177.24705882352944, 74.745, 'gini = 0.0\\nsamples = 7\\nvalue = [7, 0]'),\n",
       " Text(190.37647058823532, 74.745, 'gini = 0.0\\nsamples = 1\\nvalue = [0, 1]'),\n",
       " Text(193.6588235294118, 183.465, 'X[1] <= 103.5\\ngini = 0.48\\nsamples = 30\\nvalue = [12, 18]'),\n",
       " Text(177.24705882352944, 169.875, 'X[3] <= 3.75\\ngini = 0.375\\nsamples = 8\\nvalue = [6, 2]'),\n",
       " Text(170.68235294117648, 156.285, 'X[5] <= 8.84\\ngini = 0.245\\nsamples = 7\\nvalue = [6, 1]'),\n",
       " Text(164.11764705882354, 142.695, 'gini = 0.0\\nsamples = 5\\nvalue = [5, 0]'),\n",
       " Text(177.24705882352944, 142.695, 'X[6] <= 0.5\\ngini = 0.5\\nsamples = 2\\nvalue = [1, 1]'),\n",
       " Text(170.68235294117648, 129.10500000000002, 'gini = 0.0\\nsamples = 1\\nvalue = [1, 0]'),\n",
       " Text(183.81176470588238, 129.10500000000002, 'gini = 0.0\\nsamples = 1\\nvalue = [0, 1]'),\n",
       " Text(183.81176470588238, 156.285, 'gini = 0.0\\nsamples = 1\\nvalue = [0, 1]'),\n",
       " Text(210.07058823529414, 169.875, 'X[0] <= 317.5\\ngini = 0.397\\nsamples = 22\\nvalue = [6, 16]'),\n",
       " Text(196.94117647058826, 156.285, 'X[3] <= 3.75\\ngini = 0.278\\nsamples = 18\\nvalue = [3, 15]'),\n",
       " Text(190.37647058823532, 142.695, 'gini = 0.0\\nsamples = 8\\nvalue = [0, 8]'),\n",
       " Text(203.5058823529412, 142.695, 'X[4] <= 3.25\\ngini = 0.42\\nsamples = 10\\nvalue = [3, 7]'),\n",
       " Text(196.94117647058826, 129.10500000000002, 'gini = 0.0\\nsamples = 1\\nvalue = [1, 0]'),\n",
       " Text(210.07058823529414, 129.10500000000002, 'X[0] <= 311.0\\ngini = 0.346\\nsamples = 9\\nvalue = [2, 7]'),\n",
       " Text(203.5058823529412, 115.515, 'gini = 0.0\\nsamples = 1\\nvalue = [1, 0]'),\n",
       " Text(216.63529411764708, 115.515, 'X[5] <= 8.785\\ngini = 0.219\\nsamples = 8\\nvalue = [1, 7]'),\n",
       " Text(210.07058823529414, 101.925, 'X[5] <= 8.77\\ngini = 0.444\\nsamples = 3\\nvalue = [1, 2]'),\n",
       " Text(203.5058823529412, 88.33500000000001, 'gini = 0.0\\nsamples = 2\\nvalue = [0, 2]'),\n",
       " Text(216.63529411764708, 88.33500000000001, 'gini = 0.0\\nsamples = 1\\nvalue = [1, 0]'),\n",
       " Text(223.20000000000002, 101.925, 'gini = 0.0\\nsamples = 5\\nvalue = [0, 5]'),\n",
       " Text(223.20000000000002, 156.285, 'X[2] <= 2.0\\ngini = 0.375\\nsamples = 4\\nvalue = [3, 1]'),\n",
       " Text(216.63529411764708, 142.695, 'gini = 0.0\\nsamples = 1\\nvalue = [0, 1]'),\n",
       " Text(229.76470588235296, 142.695, 'gini = 0.0\\nsamples = 3\\nvalue = [3, 0]'),\n",
       " Text(294.59117647058827, 197.055, 'X[5] <= 8.765\\ngini = 0.146\\nsamples = 176\\nvalue = [14, 162]'),\n",
       " Text(270.79411764705884, 183.465, 'X[6] <= 0.5\\ngini = 0.422\\nsamples = 43\\nvalue = [13, 30]'),\n",
       " Text(242.89411764705883, 169.875, 'X[5] <= 8.42\\ngini = 0.42\\nsamples = 10\\nvalue = [7, 3]'),\n",
       " Text(236.3294117647059, 156.285, 'gini = 0.0\\nsamples = 4\\nvalue = [4, 0]'),\n",
       " Text(249.4588235294118, 156.285, 'X[5] <= 8.58\\ngini = 0.5\\nsamples = 6\\nvalue = [3, 3]'),\n",
       " Text(242.89411764705883, 142.695, 'gini = 0.0\\nsamples = 2\\nvalue = [0, 2]'),\n",
       " Text(256.02352941176474, 142.695, 'X[4] <= 3.75\\ngini = 0.375\\nsamples = 4\\nvalue = [3, 1]'),\n",
       " Text(249.4588235294118, 129.10500000000002, 'gini = 0.0\\nsamples = 3\\nvalue = [3, 0]'),\n",
       " Text(262.5882352941177, 129.10500000000002, 'gini = 0.0\\nsamples = 1\\nvalue = [0, 1]'),\n",
       " Text(298.6941176470589, 169.875, 'X[1] <= 109.5\\ngini = 0.298\\nsamples = 33\\nvalue = [6, 27]'),\n",
       " Text(282.2823529411765, 156.285, 'X[1] <= 104.5\\ngini = 0.43\\nsamples = 16\\nvalue = [5, 11]'),\n",
       " Text(275.71764705882356, 142.695, 'gini = 0.0\\nsamples = 4\\nvalue = [0, 4]'),\n",
       " Text(288.84705882352944, 142.695, 'X[5] <= 8.47\\ngini = 0.486\\nsamples = 12\\nvalue = [5, 7]'),\n",
       " Text(275.71764705882356, 129.10500000000002, 'X[4] <= 2.75\\ngini = 0.375\\nsamples = 4\\nvalue = [3, 1]'),\n",
       " Text(269.1529411764706, 115.515, 'gini = 0.0\\nsamples = 1\\nvalue = [0, 1]'),\n",
       " Text(282.2823529411765, 115.515, 'gini = 0.0\\nsamples = 3\\nvalue = [3, 0]'),\n",
       " Text(301.9764705882353, 129.10500000000002, 'X[1] <= 107.5\\ngini = 0.375\\nsamples = 8\\nvalue = [2, 6]'),\n",
       " Text(295.4117647058824, 115.515, 'gini = 0.0\\nsamples = 4\\nvalue = [0, 4]'),\n",
       " Text(308.54117647058825, 115.515, 'X[2] <= 4.5\\ngini = 0.5\\nsamples = 4\\nvalue = [2, 2]'),\n",
       " Text(301.9764705882353, 101.925, 'X[4] <= 3.25\\ngini = 0.444\\nsamples = 3\\nvalue = [2, 1]'),\n",
       " Text(295.4117647058824, 88.33500000000001, 'gini = 0.0\\nsamples = 1\\nvalue = [0, 1]'),\n",
       " Text(308.54117647058825, 88.33500000000001, 'gini = 0.0\\nsamples = 2\\nvalue = [2, 0]'),\n",
       " Text(315.1058823529412, 101.925, 'gini = 0.0\\nsamples = 1\\nvalue = [0, 1]'),\n",
       " Text(315.1058823529412, 156.285, 'X[1] <= 114.5\\ngini = 0.111\\nsamples = 17\\nvalue = [1, 16]'),\n",
       " Text(308.54117647058825, 142.695, 'gini = 0.0\\nsamples = 15\\nvalue = [0, 15]'),\n",
       " Text(321.67058823529413, 142.695, 'X[3] <= 3.75\\ngini = 0.5\\nsamples = 2\\nvalue = [1, 1]'),\n",
       " Text(315.1058823529412, 129.10500000000002, 'gini = 0.0\\nsamples = 1\\nvalue = [1, 0]'),\n",
       " Text(328.2352941176471, 129.10500000000002, 'gini = 0.0\\nsamples = 1\\nvalue = [0, 1]'),\n",
       " Text(318.3882352941177, 183.465, 'X[4] <= 1.75\\ngini = 0.015\\nsamples = 133\\nvalue = [1, 132]'),\n",
       " Text(311.82352941176475, 169.875, 'gini = 0.0\\nsamples = 1\\nvalue = [1, 0]'),\n",
       " Text(324.95294117647063, 169.875, 'gini = 0.0\\nsamples = 132\\nvalue = [0, 132]')]"
      ]
     },
     "execution_count": 47,
     "metadata": {},
     "output_type": "execute_result"
    },
    {
     "data": {
      "image/png": "[encoded data removed]",
      "text/plain": [
       "<Figure size 432x288 with 1 Axes>"
      ]
     },
     "metadata": {
      "needs_background": "light"
     },
     "output_type": "display_data"
    }
   ],
   "source": [
    "tree.plot_tree(model.fit(xtrain,ytrain)) "
   ]
  },
  {
   "cell_type": "code",
   "execution_count": 11,
   "metadata": {},
   "outputs": [
    {
     "name": "stdout",
     "output_type": "stream",
     "text": [
      "[0.29665502 0.14977498 0.07344559 0.07230855 0.0597759  0.3012635\n",
      " 0.04677646]\n"
     ]
    }
   ],
   "source": [
    "print(model.feature_importances_)"
   ]
  },
  {
   "cell_type": "code",
   "execution_count": 12,
   "metadata": {},
   "outputs": [
    {
     "data": {
      "text/html": [
       "<div>\n",
       "<style scoped>\n",
       "    .dataframe tbody tr th:only-of-type {\n",
       "        vertical-align: middle;\n",
       "    }\n",
       "\n",
       "    .dataframe tbody tr th {\n",
       "        vertical-align: top;\n",
       "    }\n",
       "\n",
       "    .dataframe thead th {\n",
       "        text-align: right;\n",
       "    }\n",
       "</style>\n",
       "<table border=\"1\" class=\"dataframe\">\n",
       "  <thead>\n",
       "    <tr style=\"text-align: right;\">\n",
       "      <th></th>\n",
       "      <th>GRE Score</th>\n",
       "      <th>TOEFL Score</th>\n",
       "      <th>University Rating</th>\n",
       "      <th>state_purpose</th>\n",
       "      <th>LOR</th>\n",
       "      <th>CGPA</th>\n",
       "      <th>Research</th>\n",
       "    </tr>\n",
       "  </thead>\n",
       "  <tbody>\n",
       "    <tr>\n",
       "      <th>0</th>\n",
       "      <td>337</td>\n",
       "      <td>118</td>\n",
       "      <td>4</td>\n",
       "      <td>4.5</td>\n",
       "      <td>4.5</td>\n",
       "      <td>9.65</td>\n",
       "      <td>1</td>\n",
       "    </tr>\n",
       "    <tr>\n",
       "      <th>1</th>\n",
       "      <td>324</td>\n",
       "      <td>107</td>\n",
       "      <td>4</td>\n",
       "      <td>4.0</td>\n",
       "      <td>4.5</td>\n",
       "      <td>8.87</td>\n",
       "      <td>1</td>\n",
       "    </tr>\n",
       "    <tr>\n",
       "      <th>2</th>\n",
       "      <td>316</td>\n",
       "      <td>104</td>\n",
       "      <td>3</td>\n",
       "      <td>3.0</td>\n",
       "      <td>3.5</td>\n",
       "      <td>8.00</td>\n",
       "      <td>1</td>\n",
       "    </tr>\n",
       "    <tr>\n",
       "      <th>3</th>\n",
       "      <td>322</td>\n",
       "      <td>110</td>\n",
       "      <td>3</td>\n",
       "      <td>3.5</td>\n",
       "      <td>2.5</td>\n",
       "      <td>8.67</td>\n",
       "      <td>1</td>\n",
       "    </tr>\n",
       "    <tr>\n",
       "      <th>4</th>\n",
       "      <td>314</td>\n",
       "      <td>103</td>\n",
       "      <td>2</td>\n",
       "      <td>2.0</td>\n",
       "      <td>3.0</td>\n",
       "      <td>8.21</td>\n",
       "      <td>0</td>\n",
       "    </tr>\n",
       "    <tr>\n",
       "      <th>...</th>\n",
       "      <td>...</td>\n",
       "      <td>...</td>\n",
       "      <td>...</td>\n",
       "      <td>...</td>\n",
       "      <td>...</td>\n",
       "      <td>...</td>\n",
       "      <td>...</td>\n",
       "    </tr>\n",
       "    <tr>\n",
       "      <th>495</th>\n",
       "      <td>332</td>\n",
       "      <td>108</td>\n",
       "      <td>5</td>\n",
       "      <td>4.5</td>\n",
       "      <td>4.0</td>\n",
       "      <td>9.02</td>\n",
       "      <td>1</td>\n",
       "    </tr>\n",
       "    <tr>\n",
       "      <th>496</th>\n",
       "      <td>337</td>\n",
       "      <td>117</td>\n",
       "      <td>5</td>\n",
       "      <td>5.0</td>\n",
       "      <td>5.0</td>\n",
       "      <td>9.87</td>\n",
       "      <td>1</td>\n",
       "    </tr>\n",
       "    <tr>\n",
       "      <th>497</th>\n",
       "      <td>330</td>\n",
       "      <td>120</td>\n",
       "      <td>5</td>\n",
       "      <td>4.5</td>\n",
       "      <td>5.0</td>\n",
       "      <td>9.56</td>\n",
       "      <td>1</td>\n",
       "    </tr>\n",
       "    <tr>\n",
       "      <th>498</th>\n",
       "      <td>312</td>\n",
       "      <td>103</td>\n",
       "      <td>4</td>\n",
       "      <td>4.0</td>\n",
       "      <td>5.0</td>\n",
       "      <td>8.43</td>\n",
       "      <td>0</td>\n",
       "    </tr>\n",
       "    <tr>\n",
       "      <th>499</th>\n",
       "      <td>327</td>\n",
       "      <td>113</td>\n",
       "      <td>4</td>\n",
       "      <td>4.5</td>\n",
       "      <td>4.5</td>\n",
       "      <td>9.04</td>\n",
       "      <td>0</td>\n",
       "    </tr>\n",
       "  </tbody>\n",
       "</table>\n",
       "<p>500 rows × 7 columns</p>\n",
       "</div>"
      ],
      "text/plain": [
       "     GRE Score  TOEFL Score  University Rating  state_purpose  LOR   CGPA  \\\n",
       "0          337          118                  4            4.5   4.5  9.65   \n",
       "1          324          107                  4            4.0   4.5  8.87   \n",
       "2          316          104                  3            3.0   3.5  8.00   \n",
       "3          322          110                  3            3.5   2.5  8.67   \n",
       "4          314          103                  2            2.0   3.0  8.21   \n",
       "..         ...          ...                ...            ...   ...   ...   \n",
       "495        332          108                  5            4.5   4.0  9.02   \n",
       "496        337          117                  5            5.0   5.0  9.87   \n",
       "497        330          120                  5            4.5   5.0  9.56   \n",
       "498        312          103                  4            4.0   5.0  8.43   \n",
       "499        327          113                  4            4.5   4.5  9.04   \n",
       "\n",
       "     Research  \n",
       "0           1  \n",
       "1           1  \n",
       "2           1  \n",
       "3           1  \n",
       "4           0  \n",
       "..        ...  \n",
       "495         1  \n",
       "496         1  \n",
       "497         1  \n",
       "498         0  \n",
       "499         0  \n",
       "\n",
       "[500 rows x 7 columns]"
      ]
     },
     "execution_count": 12,
     "metadata": {},
     "output_type": "execute_result"
    }
   ],
   "source": [
    "x"
   ]
  },
  {
   "cell_type": "code",
   "execution_count": null,
   "metadata": {},
   "outputs": [],
   "source": [
    "import numpy as np\n",
    "import pandas as pd\n",
    "from sklearn import datasets\n",
    "from sklearn.ensemble import RandomForestRegressor\n",
    "from sklearn.tree import DecisionTreeRegressor\n",
    "from sklearn.model_selection import train_test_split"
   ]
  },
  {
   "cell_type": "code",
   "execution_count": null,
   "metadata": {},
   "outputs": [],
   "source": [
    "data=pd.read_csv('cluster.csv')\n",
    "data\n",
    "data.dropna(inplace=True)\n",
    "x=data.iloc[:,1:8]\n",
    "y=data.iloc[:,8]"
   ]
  },
  {
   "cell_type": "code",
   "execution_count": null,
   "metadata": {},
   "outputs": [],
   "source": [
    "x_train,x_test,y_train,y_test= train_test_split(x,y,test_size=0.1,random_state=1)\n",
    "model=DecisionTreeRegressor().fit(x_train,y_train)\n",
    "pred_y=model.predict(x_test)\n",
    "pred_y\n",
    "error=abs(pred_y-y_test)\n",
    "error.mean()"
   ]
  },
  {
   "cell_type": "code",
   "execution_count": null,
   "metadata": {},
   "outputs": [],
   "source": [
    "rf_r= RandomForestRegressor(n_estimators=3)\n",
    "model1=rf_r.fit(x_train,y_train)\n",
    "print(model1.feature_importances_)\n",
    "pred_y=rf_r.predict(x_test)\n",
    "error=abs(pred_y-y_test)\n",
    "error.mean()"
   ]
  }
 ],
 "metadata": {
  "kernelspec": {
   "display_name": "Python 3",
   "language": "python",
   "name": "python3"
  },
  "language_info": {
   "codemirror_mode": {
    "name": "ipython",
    "version": 3
   },
   "file_extension": ".py",
   "mimetype": "text/x-python",
   "name": "python",
   "nbconvert_exporter": "python",
   "pygments_lexer": "ipython3",
   "version": "3.7.6"
  }
 },
 "nbformat": 4,
 "nbformat_minor": 4
}
