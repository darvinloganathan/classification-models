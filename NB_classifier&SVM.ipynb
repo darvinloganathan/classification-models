{
 "cells": [
  {
   "cell_type": "code",
   "execution_count": 1,
   "metadata": {},
   "outputs": [
    {
     "data": {
      "text/plain": [
       "'C:\\\\Users\\\\Darvin'"
      ]
     },
     "execution_count": 1,
     "metadata": {},
     "output_type": "execute_result"
    }
   ],
   "source": [
    "pwd"
   ]
  },
  {
   "cell_type": "code",
   "execution_count": 2,
   "metadata": {},
   "outputs": [
    {
     "name": "stdout",
     "output_type": "stream",
     "text": [
      "D:\\Darvin\\python training\n"
     ]
    }
   ],
   "source": [
    "cd D:\\Darvin\\python training"
   ]
  },
  {
   "cell_type": "code",
   "execution_count": 4,
   "metadata": {},
   "outputs": [
    {
     "data": {
      "text/html": [
       "<div>\n",
       "<style scoped>\n",
       "    .dataframe tbody tr th:only-of-type {\n",
       "        vertical-align: middle;\n",
       "    }\n",
       "\n",
       "    .dataframe tbody tr th {\n",
       "        vertical-align: top;\n",
       "    }\n",
       "\n",
       "    .dataframe thead th {\n",
       "        text-align: right;\n",
       "    }\n",
       "</style>\n",
       "<table border=\"1\" class=\"dataframe\">\n",
       "  <thead>\n",
       "    <tr style=\"text-align: right;\">\n",
       "      <th></th>\n",
       "      <th>class</th>\n",
       "      <th>handicapped-infants</th>\n",
       "      <th>water-project</th>\n",
       "      <th>budget-resolution</th>\n",
       "      <th>physician-fee-freeze</th>\n",
       "      <th>el-salvador-aid</th>\n",
       "      <th>religious-groups</th>\n",
       "      <th>anti-satellite-test-ban</th>\n",
       "      <th>aid-to-nicaraguan-contras</th>\n",
       "      <th>immigration</th>\n",
       "      <th>synfuels-corporation</th>\n",
       "      <th>education-spending</th>\n",
       "      <th>superfund</th>\n",
       "      <th>crime</th>\n",
       "      <th>duty-free-exports</th>\n",
       "      <th>export-administration-act-south-africa</th>\n",
       "    </tr>\n",
       "  </thead>\n",
       "  <tbody>\n",
       "    <tr>\n",
       "      <th>0</th>\n",
       "      <td>0</td>\n",
       "      <td>0</td>\n",
       "      <td>1</td>\n",
       "      <td>0</td>\n",
       "      <td>1</td>\n",
       "      <td>1</td>\n",
       "      <td>1</td>\n",
       "      <td>0</td>\n",
       "      <td>0</td>\n",
       "      <td>1</td>\n",
       "      <td>1</td>\n",
       "      <td>1</td>\n",
       "      <td>1</td>\n",
       "      <td>1</td>\n",
       "      <td>0</td>\n",
       "      <td>1</td>\n",
       "    </tr>\n",
       "    <tr>\n",
       "      <th>1</th>\n",
       "      <td>0</td>\n",
       "      <td>0</td>\n",
       "      <td>1</td>\n",
       "      <td>0</td>\n",
       "      <td>1</td>\n",
       "      <td>1</td>\n",
       "      <td>1</td>\n",
       "      <td>0</td>\n",
       "      <td>0</td>\n",
       "      <td>0</td>\n",
       "      <td>0</td>\n",
       "      <td>1</td>\n",
       "      <td>1</td>\n",
       "      <td>1</td>\n",
       "      <td>0</td>\n",
       "      <td>1</td>\n",
       "    </tr>\n",
       "  </tbody>\n",
       "</table>\n",
       "</div>"
      ],
      "text/plain": [
       "   class  handicapped-infants  water-project  budget-resolution  \\\n",
       "0      0                    0              1                  0   \n",
       "1      0                    0              1                  0   \n",
       "\n",
       "   physician-fee-freeze  el-salvador-aid  religious-groups  \\\n",
       "0                     1                1                 1   \n",
       "1                     1                1                 1   \n",
       "\n",
       "   anti-satellite-test-ban  aid-to-nicaraguan-contras  immigration  \\\n",
       "0                        0                          0            1   \n",
       "1                        0                          0            0   \n",
       "\n",
       "   synfuels-corporation  education-spending  superfund  crime  \\\n",
       "0                     1                   1          1      1   \n",
       "1                     0                   1          1      1   \n",
       "\n",
       "   duty-free-exports  export-administration-act-south-africa  \n",
       "0                  0                                       1  \n",
       "1                  0                                       1  "
      ]
     },
     "execution_count": 4,
     "metadata": {},
     "output_type": "execute_result"
    }
   ],
   "source": [
    "import pandas as pd\n",
    "data=pd.read_csv('binary.csv')\n",
    "data.head(2)"
   ]
  },
  {
   "cell_type": "code",
   "execution_count": 11,
   "metadata": {},
   "outputs": [
    {
     "name": "stdout",
     "output_type": "stream",
     "text": [
      "(348, 12)\n",
      "(87, 12)\n",
      "(348,)\n",
      "(87,)\n"
     ]
    }
   ],
   "source": [
    "y=data.iloc[:,0]\n",
    "x=data.iloc[:,1:13]\n",
    "from sklearn.model_selection import train_test_split\n",
    "xtrain,xtest,ytrain,ytest=train_test_split(x,y,test_size=0.2,random_state=11)\n",
    "print(xtrain.shape)\n",
    "print(xtest.shape)\n",
    "print(ytrain.shape)\n",
    "print(ytest.shape)\n"
   ]
  },
  {
   "cell_type": "code",
   "execution_count": 17,
   "metadata": {},
   "outputs": [
    {
     "data": {
      "text/plain": [
       "array([[35,  2],\n",
       "       [ 1, 49]], dtype=int64)"
      ]
     },
     "execution_count": 17,
     "metadata": {},
     "output_type": "execute_result"
    }
   ],
   "source": [
    "from sklearn.naive_bayes import GaussianNB\n",
    "model=GaussianNB().fit(xtrain,ytrain)\n",
    "pred_y=model.predict(xtest)\n",
    "from sklearn.metrics import confusion_matrix\n",
    "confusion_matrix(ytest,pred_y)"
   ]
  },
  {
   "cell_type": "code",
   "execution_count": 28,
   "metadata": {},
   "outputs": [
    {
     "data": {
      "text/plain": [
       "array([[36,  1],\n",
       "       [ 2, 48]], dtype=int64)"
      ]
     },
     "execution_count": 28,
     "metadata": {},
     "output_type": "execute_result"
    }
   ],
   "source": [
    "from sklearn import svm\n",
    "model=svm.SVC(kernel=\"linear\")\n",
    "model.fit(xtrain,ytrain)\n",
    "pred_y=model.predict(xtest)\n",
    "confusion_matrix(ytest,pred_y)"
   ]
  },
  {
   "cell_type": "code",
   "execution_count": 29,
   "metadata": {},
   "outputs": [
    {
     "data": {
      "text/plain": [
       "array([ 1.76405235,  0.40015721,  0.97873798,  2.2408932 ,  1.86755799,\n",
       "       -0.97727788,  0.95008842, -0.15135721, -0.10321885,  0.4105985 ])"
      ]
     },
     "execution_count": 29,
     "metadata": {},
     "output_type": "execute_result"
    }
   ],
   "source": [
    "from sklearn.svm import SVR\n",
    "import numpy as np\n",
    "n_sample,n_feature=10,5\n",
    "np.random.seed(0)\n",
    "y=np.random.randn(n_sample)\n",
    "y"
   ]
  },
  {
   "cell_type": "code",
   "execution_count": 31,
   "metadata": {},
   "outputs": [
    {
     "data": {
      "text/plain": [
       "array([[-0.67246045, -0.35955316, -0.81314628, -1.7262826 ,  0.17742614],\n",
       "       [-0.40178094, -1.63019835,  0.46278226, -0.90729836,  0.0519454 ],\n",
       "       [ 0.72909056,  0.12898291,  1.13940068, -1.23482582,  0.40234164],\n",
       "       [-0.68481009, -0.87079715, -0.57884966, -0.31155253,  0.05616534],\n",
       "       [-1.16514984,  0.90082649,  0.46566244, -1.53624369,  1.48825219],\n",
       "       [ 1.89588918,  1.17877957, -0.17992484, -1.07075262,  1.05445173],\n",
       "       [-0.40317695,  1.22244507,  0.20827498,  0.97663904,  0.3563664 ],\n",
       "       [ 0.70657317,  0.01050002,  1.78587049,  0.12691209,  0.40198936],\n",
       "       [ 1.8831507 , -1.34775906, -1.270485  ,  0.96939671, -1.17312341],\n",
       "       [ 1.94362119, -0.41361898, -0.74745481,  1.92294203,  1.48051479]])"
      ]
     },
     "execution_count": 31,
     "metadata": {},
     "output_type": "execute_result"
    }
   ],
   "source": [
    "x=np.random.randn(n_sample,n_feature)\n",
    "x"
   ]
  },
  {
   "cell_type": "code",
   "execution_count": 34,
   "metadata": {},
   "outputs": [],
   "source": [
    "parameter={'kernel':('linear','rbf','poly'),'c':[1.5,10],'gamma':['le-7','le-4']}"
   ]
  },
  {
   "cell_type": "code",
   "execution_count": 37,
   "metadata": {},
   "outputs": [
    {
     "ename": "ImportError",
     "evalue": "cannot import name 'grid_search' from 'sklearn' (D:\\anaconda\\lib\\site-packages\\sklearn\\__init__.py)",
     "output_type": "error",
     "traceback": [
      "\u001b[1;31m---------------------------------------------------------------------------\u001b[0m",
      "\u001b[1;31mImportError\u001b[0m                               Traceback (most recent call last)",
      "\u001b[1;32m<ipython-input-37-5935a5e7dbc5>\u001b[0m in \u001b[0;36m<module>\u001b[1;34m\u001b[0m\n\u001b[1;32m----> 1\u001b[1;33m \u001b[1;32mfrom\u001b[0m \u001b[0msklearn\u001b[0m \u001b[1;32mimport\u001b[0m \u001b[0mgrid_search\u001b[0m\u001b[1;33m\u001b[0m\u001b[1;33m\u001b[0m\u001b[0m\n\u001b[0m",
      "\u001b[1;31mImportError\u001b[0m: cannot import name 'grid_search' from 'sklearn' (D:\\anaconda\\lib\\site-packages\\sklearn\\__init__.py)"
     ]
    }
   ],
   "source": [
    "from sklearn import grid_search\n"
   ]
  },
  {
   "cell_type": "code",
   "execution_count": null,
   "metadata": {},
   "outputs": [],
   "source": []
  }
 ],
 "metadata": {
  "kernelspec": {
   "display_name": "Python 3",
   "language": "python",
   "name": "python3"
  },
  "language_info": {
   "codemirror_mode": {
    "name": "ipython",
    "version": 3
   },
   "file_extension": ".py",
   "mimetype": "text/x-python",
   "name": "python",
   "nbconvert_exporter": "python",
   "pygments_lexer": "ipython3",
   "version": "3.7.6"
  }
 },
 "nbformat": 4,
 "nbformat_minor": 4
}
